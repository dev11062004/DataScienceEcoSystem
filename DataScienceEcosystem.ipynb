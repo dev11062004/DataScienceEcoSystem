{
  "metadata": {
    "kernelspec": {
      "name": "xpython",
      "display_name": "Python 3.13 (XPython)",
      "language": "python"
    },
    "language_info": {
      "file_extension": ".py",
      "mimetype": "text/x-python",
      "name": "python",
      "version": "3.13.1"
    }
  },
  "nbformat_minor": 5,
  "nbformat": 4,
  "cells": [
    {
      "id": "d650fa52-1d49-4253-9d6f-3e5085e392e4",
      "cell_type": "markdown",
      "source": "# Data Science Tools # Exercise 2",
      "metadata": {}
    },
    {
      "id": "ea861124-97fe-4099-a993-5fb5e158875b",
      "cell_type": "markdown",
      "source": "## Introduction\nIn this notebook, we will summarize some of the popular tools, libraries, and languages used in Data Science. We will also include a few simple examples of arithmetic expressions in code.\n# Exericse 3",
      "metadata": {}
    },
    {
      "id": "ce0d03ce-dad2-4d5f-8adb-b0cdd340c0a3",
      "cell_type": "markdown",
      "source": "## Popular Data Science Languages\nSome of the most popular languages that Data Scientists use are:\n- Python\n- R\n- SQL\n- Julia\n- Scala\n",
      "metadata": {}
    },
    {
      "id": "4f57b77b-7121-429e-bbeb-ab436670103a",
      "cell_type": "markdown",
      "source": "## Commonly Used Data Science Libraries\nSome of the most commonly used libraries by Data Scientists include:\n- Pandas\n- NumPy\n- Matplotlib\n- Scikit-learn\n- TensorFlow\n- ggplot2 (for R)\n",
      "metadata": {}
    },
    {
      "id": "6eddd72c-ff8c-489a-b8e6-1e51344b4c39",
      "cell_type": "markdown",
      "source": "## Data Science Tools\n| Tool           | Category                |\n|----------------|------------------------:|\n| Jupyter        | Notebook Environment   |\n| RStudio        | IDE                    |\n| Apache Spark   | Big Data Processing    |\n| Tableau        | Data Visualization     |\n| VS Code        | Code Editor            |\n",
      "metadata": {}
    },
    {
      "id": "5cf07736-f620-4fe2-a9bf-3bbc89ce0a4d",
      "cell_type": "markdown",
      "source": "## Examples of Arithmetic Expressions in Python\nBelow are a few examples of how to perform basic arithmetic operations like addition and multiplication using Python.\n",
      "metadata": {}
    },
    {
      "id": "a08d1daf-b4da-453d-a572-651642810a08",
      "cell_type": "code",
      "source": "\nresult = (3 * 4) + 5\nprint(\"Result of (3 * 4) + 5:\", result)\n",
      "metadata": {
        "trusted": true
      },
      "outputs": [],
      "execution_count": null
    },
    {
      "id": "b30cc55b-9583-4a45-a522-ef0ec5ca43d6",
      "cell_type": "code",
      "source": "\nminutes = 200\nhours = minutes / 60\nprint(f\"{minutes} minutes is equal to {hours} hours\")\n",
      "metadata": {
        "trusted": true
      },
      "outputs": [],
      "execution_count": null
    },
    {
      "id": "bf84c333-13ca-4bea-80a4-7abc5b1a251e",
      "cell_type": "markdown",
      "source": "## Objectives\n- List popular languages used in Data Science\n- Identify commonly used libraries in Data Science\n- Create tables using markdown\n- Perform arithmetic operations in Python\n- Convert minutes into hours using Python code\n",
      "metadata": {}
    },
    {
      "id": "ac6b3355-847e-4b74-aafa-e6abef72efbf",
      "cell_type": "markdown",
      "source": "## Author\nDadhania Dev Jagdishbhai",
      "metadata": {}
    }
  ]
}